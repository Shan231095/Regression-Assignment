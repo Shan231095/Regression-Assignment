{
 "cells": [
  {
   "cell_type": "code",
   "execution_count": 4,
   "id": "b08f2861-c416-4a82-a37a-218add93170e",
   "metadata": {},
   "outputs": [],
   "source": [
    "import pickle"
   ]
  },
  {
   "cell_type": "code",
   "execution_count": 5,
   "id": "2b317af6-f91c-4594-960b-79f4e40cd738",
   "metadata": {},
   "outputs": [
    {
     "name": "stderr",
     "output_type": "stream",
     "text": [
      "C:\\Anaconda3\\Lib\\site-packages\\sklearn\\base.py:493: UserWarning: X does not have valid feature names, but DecisionTreeRegressor was fitted with feature names\n",
      "  warnings.warn(\n"
     ]
    }
   ],
   "source": [
    "loaded_model=pickle.load(open(\"model_decision_tree.sav\",'rb'))\n",
    "result=loaded_model.predict([[35,30,1,0,0]])"
   ]
  },
  {
   "cell_type": "code",
   "execution_count": 6,
   "id": "b3035300-b53d-49c6-9376-72cb74f17316",
   "metadata": {},
   "outputs": [
    {
     "data": {
      "text/plain": [
       "array([5240.765])"
      ]
     },
     "execution_count": 6,
     "metadata": {},
     "output_type": "execute_result"
    }
   ],
   "source": [
    "result"
   ]
  },
  {
   "cell_type": "code",
   "execution_count": null,
   "id": "cb7b1033-83dc-48f6-8924-649cf9baf8dd",
   "metadata": {},
   "outputs": [],
   "source": []
  }
 ],
 "metadata": {
  "kernelspec": {
   "display_name": "Python 3 (ipykernel)",
   "language": "python",
   "name": "python3"
  },
  "language_info": {
   "codemirror_mode": {
    "name": "ipython",
    "version": 3
   },
   "file_extension": ".py",
   "mimetype": "text/x-python",
   "name": "python",
   "nbconvert_exporter": "python",
   "pygments_lexer": "ipython3",
   "version": "3.12.7"
  }
 },
 "nbformat": 4,
 "nbformat_minor": 5
}
