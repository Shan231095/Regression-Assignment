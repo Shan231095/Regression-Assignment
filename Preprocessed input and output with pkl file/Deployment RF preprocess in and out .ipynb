{
 "cells": [
  {
   "cell_type": "code",
   "execution_count": 30,
   "id": "f054bc10-7366-4b7b-918f-35e0cf80aa14",
   "metadata": {},
   "outputs": [],
   "source": [
    "import pickle"
   ]
  },
  {
   "cell_type": "code",
   "execution_count": 31,
   "id": "72b51f64-eb14-457f-82c9-ae710d6601e8",
   "metadata": {},
   "outputs": [
    {
     "name": "stderr",
     "output_type": "stream",
     "text": [
      "C:\\Anaconda3\\Lib\\site-packages\\sklearn\\base.py:493: UserWarning: X does not have valid feature names, but StandardScaler was fitted with feature names\n",
      "  warnings.warn(\n"
     ]
    }
   ],
   "source": [
    "preinput=sc.transform([[35,30,1,0,0]])"
   ]
  },
  {
   "cell_type": "code",
   "execution_count": 32,
   "id": "5bf786cb-20bb-4faf-abe9-653f513e0e05",
   "metadata": {},
   "outputs": [
    {
     "data": {
      "text/plain": [
       "array([[-0.31925224, -0.12072137, -0.06746417, -0.97676557, -0.50466988]])"
      ]
     },
     "execution_count": 32,
     "metadata": {},
     "output_type": "execute_result"
    }
   ],
   "source": [
    "preinput"
   ]
  },
  {
   "cell_type": "code",
   "execution_count": 33,
   "id": "1a28897e-5146-4906-8de1-d569b5396a4e",
   "metadata": {},
   "outputs": [],
   "source": [
    "loaded_model=pickle.load(open(\"model_RF_PreInputOutput.sav\",'rb'))\n",
    "sc=pickle.load(open(\"sc.pkl\",'rb'))\n",
    "scy=pickle.load(open(\"scy.pkl\",'rb'))  "
   ]
  },
  {
   "cell_type": "code",
   "execution_count": 34,
   "id": "543863b7-21d5-4115-a00b-7dec44aeab1e",
   "metadata": {},
   "outputs": [],
   "source": [
    "result=loaded_model.predict(preinput)"
   ]
  },
  {
   "cell_type": "code",
   "execution_count": 35,
   "id": "0fd7115b-fd09-4aa1-b7d6-850ab6f3a8cd",
   "metadata": {},
   "outputs": [
    {
     "data": {
      "text/plain": [
       "array([-0.62236855])"
      ]
     },
     "execution_count": 35,
     "metadata": {},
     "output_type": "execute_result"
    }
   ],
   "source": [
    "result"
   ]
  },
  {
   "cell_type": "code",
   "execution_count": 36,
   "id": "5333e708-10b3-4d32-bbf7-a4e5dadd44c1",
   "metadata": {},
   "outputs": [],
   "source": [
    "preoutput=scy.inverse_transform([result])"
   ]
  },
  {
   "cell_type": "code",
   "execution_count": 37,
   "id": "8d516eaa-5e9c-41d1-8c1d-2218574bd810",
   "metadata": {},
   "outputs": [
    {
     "data": {
      "text/plain": [
       "array([[5843.0601979]])"
      ]
     },
     "execution_count": 37,
     "metadata": {},
     "output_type": "execute_result"
    }
   ],
   "source": [
    "preoutput"
   ]
  },
  {
   "cell_type": "raw",
   "id": "bcb99732-4664-4a93-982f-ab6919dcef3d",
   "metadata": {},
   "source": []
  }
 ],
 "metadata": {
  "kernelspec": {
   "display_name": "Python 3 (ipykernel)",
   "language": "python",
   "name": "python3"
  },
  "language_info": {
   "codemirror_mode": {
    "name": "ipython",
    "version": 3
   },
   "file_extension": ".py",
   "mimetype": "text/x-python",
   "name": "python",
   "nbconvert_exporter": "python",
   "pygments_lexer": "ipython3",
   "version": "3.12.7"
  }
 },
 "nbformat": 4,
 "nbformat_minor": 5
}
